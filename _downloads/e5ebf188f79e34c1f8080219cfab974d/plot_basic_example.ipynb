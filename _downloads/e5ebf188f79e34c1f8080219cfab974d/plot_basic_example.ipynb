{
  "cells": [
    {
      "cell_type": "code",
      "execution_count": null,
      "metadata": {
        "collapsed": false
      },
      "outputs": [],
      "source": [
        "%matplotlib inline"
      ]
    },
    {
      "cell_type": "markdown",
      "metadata": {},
      "source": [
        "\n# Basic Example\n\nThis is a brief walk through some basic MusicFlower functionality.\n"
      ]
    },
    {
      "cell_type": "markdown",
      "metadata": {},
      "source": [
        "## Loading a File\n\nWe are using a MusicXML file as it is small enough to ship with the documentation.\nIt can be loaded using the :func:`~musicflower.loader.load_file` function\n\n"
      ]
    },
    {
      "cell_type": "code",
      "execution_count": null,
      "metadata": {
        "collapsed": false
      },
      "outputs": [],
      "source": [
        "from musicflower.loader import load_file\n\n# path to file\nfile_path = 'Prelude_No._1_BWV_846_in_C_Major.mxl'\n# split piece into this many equal-sized time intervals\nresolution = 50\n# get pitch scape at specified resolution\nscape = load_file(data=file_path, n=resolution)"
      ]
    },
    {
      "cell_type": "markdown",
      "metadata": {},
      "source": [
        "The result can be visualised in a key scape plot.\n\n"
      ]
    },
    {
      "cell_type": "code",
      "execution_count": null,
      "metadata": {
        "collapsed": false
      },
      "outputs": [],
      "source": [
        "from musicflower.plotting import plot_key_scape\nplot_key_scape(scape)"
      ]
    },
    {
      "cell_type": "markdown",
      "metadata": {},
      "source": [
        "More functionality, such as a legend for the used colours, is available via the\n`PitchScapes <https://robert-lieck.github.io/pitchscapes/>`_ library\n\n"
      ]
    },
    {
      "cell_type": "code",
      "execution_count": null,
      "metadata": {
        "collapsed": false
      },
      "outputs": [],
      "source": [
        "import pitchscapes.plotting as pt\n_ = pt.key_legend()"
      ]
    },
    {
      "cell_type": "markdown",
      "metadata": {},
      "source": [
        "The array returned by :func:`~musicflower.loader.load_file` contains the triangular map of pitch-class distributions\n(PCDs) that is visualised above. To use NumPy's efficient linear storage, it is flattened by starting at the top and\nthen going row by row, thus, it contains a total number of n(n+1)/2 PCDs.\n\n"
      ]
    },
    {
      "cell_type": "code",
      "execution_count": null,
      "metadata": {
        "collapsed": false
      },
      "outputs": [],
      "source": [
        "print(scape.shape)\nprint(resolution * (resolution + 1) / 2)"
      ]
    },
    {
      "cell_type": "markdown",
      "metadata": {},
      "source": [
        "The :func:`~musicflower.plotting.key_colors` function can be used to get the corresponding triangular map of colours\nas RGB in [0, 1]. These are computed by matching each PCD against templates for the 12 major and 12 minor keys and\nthen interpolating between the respective colours shown in the legend above.\n\n"
      ]
    },
    {
      "cell_type": "code",
      "execution_count": null,
      "metadata": {
        "collapsed": false
      },
      "outputs": [],
      "source": [
        "from musicflower.plotting import key_colors\ncolors = key_colors(scape)\nprint(colors.shape)"
      ]
    },
    {
      "cell_type": "markdown",
      "metadata": {},
      "source": [
        "## Triangular Maps\nTo handle this kind of flattened triangular maps, the :class:`~triangularmap.tmap.TMap` class from the\n`TriangularMap <https://robert-lieck.github.io/triangularmap>`_ package can be used. It takes\na linear storage and allows for efficiently accessing its content as if it was a triangular map (see\ntriangularmap documentation for more details). For multidimensional arrays, the first dimension is assumed to\nrepresent the triangular map.\n\n"
      ]
    },
    {
      "cell_type": "code",
      "execution_count": null,
      "metadata": {
        "collapsed": false
      },
      "outputs": [],
      "source": [
        "from triangularmap import TMap\nimport numpy as np\ntmap = TMap(np.arange(6))\nprint(tmap.pretty())"
      ]
    },
    {
      "cell_type": "markdown",
      "metadata": {},
      "source": [
        "The functionalities include slicing at a specific level/depth (this returns *views* of the underlying storage)\n\n"
      ]
    },
    {
      "cell_type": "code",
      "execution_count": null,
      "metadata": {
        "collapsed": false
      },
      "outputs": [],
      "source": [
        "print(tmap.dslice(0))  # depth starts a 0 from the top\nprint(tmap.lslice(1))  # levels start at 1 from the bottom"
      ]
    },
    {
      "cell_type": "markdown",
      "metadata": {},
      "source": [
        "and slicing \"skewed columns\" for a specific start/end index (this returns *copies* of the underlying storage, note the\ndifferent syntax using square brackets), which always run left-to-right (i.e. bottom-up for start-slices, top-down for\nend-slices)\n\n\n"
      ]
    },
    {
      "cell_type": "code",
      "execution_count": null,
      "metadata": {
        "collapsed": false
      },
      "outputs": [],
      "source": [
        "print(tmap.sslice[0])  # start indices run from 0 to n - 1\nprint(tmap.eslice[3])  # end indices run from 1 to n"
      ]
    },
    {
      "cell_type": "markdown",
      "metadata": {},
      "source": [
        "## Mapping to Fourier Space\nThe discrete Fourier transform of a PCD contains musically relevant information. In particular, the 5th coefficient\nis strongest for distributions that correspond to diatonic scales and can therefore be associated to the tonality of a\npiece: its amplitude indicates how \"strongly tonal\" the piece is (e.g. atonal/12-tone pieces have a low amplitude);\nits phase maps to the circle of fifths. The :func:`~musicflower.util.get_fourier_component` function provides\namplitudes and phases of an array of PCDs\n\n"
      ]
    },
    {
      "cell_type": "code",
      "execution_count": null,
      "metadata": {
        "collapsed": false
      },
      "outputs": [],
      "source": [
        "from musicflower.util import get_fourier_component\namplitude, phase = get_fourier_component(pcds=scape, fourier_component=5)"
      ]
    },
    {
      "cell_type": "markdown",
      "metadata": {},
      "source": [
        "## Mapping to 3D Space\nThe *amplitude* and *phase* of the Fourier component provide polar coordinates for each of the PCDs. (The phase also\nstrongly correlates with the colours, even though they were computed using template matching, not Fourier components.)\nIn the key scape plot above, we have two other dimensions for each PCD: *time* on the horizontal axis and the\n*duration* on the vertical axis (i.e. center and width of the respective section of the piece). Together, this can be\nused to map each PCD to a point in 3D space as follows.\n\nWe use spherical or cylindrical coordinates with the *phase* as the azimuthal/horizontal angle, the *duration*\nfor the radial component, and the *amplitude* for the vertical component/angle (cylinder/sphere). This is done\nby the :func:`~musicflower.util.remap_to_xyz` function, which also provides some additional tweaks (see its\ndocumentation for details). Note that *time* is not explicitly represented anymore, but can be included through\ninteractive animations (see below).\n\n"
      ]
    },
    {
      "cell_type": "code",
      "execution_count": null,
      "metadata": {
        "collapsed": false
      },
      "outputs": [],
      "source": [
        "from musicflower.util import remap_to_xyz\nx, y, z = remap_to_xyz(amplitude=amplitude, phase=phase)"
      ]
    },
    {
      "cell_type": "markdown",
      "metadata": {},
      "source": [
        "## 3D Plot\nThis can be visualised in a 3D plot as follows\n\n"
      ]
    },
    {
      "cell_type": "code",
      "execution_count": null,
      "metadata": {
        "collapsed": false
      },
      "outputs": [],
      "source": [
        "from musicflower.plotting import plot_all\nplot_all(x=x, y=y, z=z, colors=colors)"
      ]
    },
    {
      "cell_type": "markdown",
      "metadata": {},
      "source": [
        "## Time as Animation\nWe can add the time dimension using an interactive slider and/or animation. The slider represents time in a normalised\n[0, 1] interval over the piece duration. When moving the slider, a line is drawn from the top, through the triangular\nmap to the point at the bottom corresponding to the current slider position. In the normal key scape plot from above,\nthis would simply be a straight line from the top down to the bottom; in the 3D plot it winds through tonal space\n(also see :doc:`plot_time_traces`).\n\n"
      ]
    },
    {
      "cell_type": "code",
      "execution_count": null,
      "metadata": {
        "collapsed": false
      },
      "outputs": [],
      "source": [
        "plot_all(x=x, y=y, z=z, colors=colors, do_plot_time_traces=True)"
      ]
    }
  ],
  "metadata": {
    "kernelspec": {
      "display_name": "Python 3",
      "language": "python",
      "name": "python3"
    },
    "language_info": {
      "codemirror_mode": {
        "name": "ipython",
        "version": 3
      },
      "file_extension": ".py",
      "mimetype": "text/x-python",
      "name": "python",
      "nbconvert_exporter": "python",
      "pygments_lexer": "ipython3",
      "version": "3.10.4"
    }
  },
  "nbformat": 4,
  "nbformat_minor": 0
}